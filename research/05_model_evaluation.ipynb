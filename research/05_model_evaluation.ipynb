{
 "cells": [
  {
   "cell_type": "code",
   "execution_count": 110,
   "id": "1ef8d863",
   "metadata": {},
   "outputs": [],
   "source": [
    "import os"
   ]
  },
  {
   "cell_type": "code",
   "execution_count": 111,
   "id": "c067a2d7",
   "metadata": {},
   "outputs": [
    {
     "data": {
      "text/plain": [
       "'c:\\\\Users\\\\jaide\\\\OneDrive\\\\Desktop\\\\GOPAL\\\\Projects\\\\Machine Learning Project\\\\machine-learning-project'"
      ]
     },
     "execution_count": 111,
     "metadata": {},
     "output_type": "execute_result"
    }
   ],
   "source": [
    "%pwd"
   ]
  },
  {
   "cell_type": "code",
   "execution_count": 112,
   "id": "984a1b3a",
   "metadata": {},
   "outputs": [],
   "source": [
    "# os.chdir(\"../\")"
   ]
  },
  {
   "cell_type": "code",
   "execution_count": 113,
   "id": "bf63e39e",
   "metadata": {},
   "outputs": [
    {
     "data": {
      "text/plain": [
       "'c:\\\\Users\\\\jaide\\\\OneDrive\\\\Desktop\\\\GOPAL\\\\Projects\\\\Machine Learning Project\\\\machine-learning-project'"
      ]
     },
     "execution_count": 113,
     "metadata": {},
     "output_type": "execute_result"
    }
   ],
   "source": [
    "%pwd"
   ]
  },
  {
   "cell_type": "code",
   "execution_count": 114,
   "id": "79e3812e",
   "metadata": {},
   "outputs": [],
   "source": [
    "from dataclasses import dataclass\n",
    "from pathlib import Path\n",
    "\n",
    "@dataclass(frozen=True)\n",
    "class ModelEvaluationConfig:\n",
    "    root_dir: Path\n",
    "    test_data_path: Path\n",
    "    model_path: Path\n",
    "    all_params: dict\n",
    "    metric_file_name: Path\n",
    "    target_column: str\n"
   ]
  },
  {
   "cell_type": "code",
   "execution_count": 115,
   "id": "416dfb96",
   "metadata": {},
   "outputs": [],
   "source": [
    "from src.mlProject.constants import *\n",
    "from src.mlProject.utils.common import read_yaml , create_directories , save_json"
   ]
  },
  {
   "cell_type": "code",
   "execution_count": 116,
   "id": "996d36a1",
   "metadata": {},
   "outputs": [],
   "source": [
    "class ConfigurationManager:\n",
    "    def __init__ (\n",
    "        self,\n",
    "        config_filepath = CONFIG_FILE_PATH,\n",
    "        params_filepath = PARAMS_FILE_PATH,\n",
    "        schema_filepath = SCHEMA_FILE_PATH):\n",
    "\n",
    "        self.config = read_yaml(config_filepath)\n",
    "        self.params = read_yaml(params_filepath)\n",
    "        self.schema = read_yaml(schema_filepath)\n",
    "\n",
    "        create_directories([self.config.artifacts_root])\n",
    "\n",
    "    def get_model_evaluation_config(self) -> ModelEvaluationConfig:\n",
    "        config = self.config.model_evaluation\n",
    "        params = self.params.ElasticNet\n",
    "        schema = self.schema.TARGET_COLUMN\n",
    "\n",
    "        create_directories([config.root_dir])\n",
    "\n",
    "        model_evaluation_config = ModelEvaluationConfig(\n",
    "             root_dir=config.root_dir,\n",
    "             test_data_path= config.test_data_path,\n",
    "             model_path= config.model_path,\n",
    "             all_params= params,\n",
    "             metric_file_name= config.metric_file_name,\n",
    "             target_column= schema.name,\n",
    "        )\n",
    "\n",
    "        return model_evaluation_config"
   ]
  },
  {
   "cell_type": "code",
   "execution_count": 117,
   "id": "9bd1eb5e",
   "metadata": {},
   "outputs": [],
   "source": [
    "import os\n",
    "import pandas as pd \n",
    "from sklearn.metrics import mean_squared_error, mean_absolute_error, r2_score\n",
    "# from urlib.parse import urlparse\n",
    "import numpy as np\n",
    "import joblib"
   ]
  },
  {
   "cell_type": "code",
   "execution_count": 118,
   "id": "5e5a5a9d",
   "metadata": {},
   "outputs": [],
   "source": [
    "class ModelEvaluation:\n",
    "   def __init__(self, config: ModelEvaluationConfig):\n",
    "        self.config = config\n",
    "\n",
    "   def eval_metrics(self,actual, pred):\n",
    "     rmse = np.sqrt(mean_squared_error(actual,pred))\n",
    "     mae =  mean_absolute_error(actual, pred)\n",
    "     r2 = r2_score(actual, pred)\n",
    "\n",
    "     return rmse, mae, r2\n",
    "    \n",
    "   def save_results(self):\n",
    "\n",
    "        test_data = pd.read_csv(self.config.test_data_path)\n",
    "        model = joblib.load(self.config.model_path)\n",
    "\n",
    "        test_x = test_data.drop([self.config.target_column], axis=1)\n",
    "        test_y = test_data[self.config.target_column]\n",
    "\n",
    "        predicted_qualities = model.predict(test_x)\n",
    "\n",
    "        (rmse, mae, r2) = self.eval_metrics(test_y, predicted_qualities)\n",
    "\n",
    "\n",
    "        scores = {\"rmse\": rmse, \"mae\":mae, \"r2\":r2}\n",
    "        save_json(Path(self.config.metric_file_name) ,scores)"
   ]
  },
  {
   "cell_type": "code",
   "execution_count": 119,
   "id": "6a5535d9",
   "metadata": {},
   "outputs": [
    {
     "name": "stdout",
     "output_type": "stream",
     "text": [
      "[2025-05-23 16:11:17,925: INFO: common: yaml file: C:\\Users\\jaide\\OneDrive\\Desktop\\GOPAL\\Projects\\Machine Learning Project\\machine-learning-project\\config\\config.yaml loaded successfully]\n",
      "[2025-05-23 16:11:17,931: INFO: common: yaml file: C:\\Users\\jaide\\OneDrive\\Desktop\\GOPAL\\Projects\\Machine Learning Project\\machine-learning-project\\params.yaml loaded successfully]\n",
      "[2025-05-23 16:11:17,937: INFO: common: yaml file: C:\\Users\\jaide\\OneDrive\\Desktop\\GOPAL\\Projects\\Machine Learning Project\\machine-learning-project\\schema.yaml loaded successfully]\n",
      "[2025-05-23 16:11:17,940: INFO: common: created directory at: artifacts]\n",
      "[2025-05-23 16:11:17,946: INFO: common: created directory at: artifacts/model_evaluation]\n",
      "[2025-05-23 16:11:17,966: INFO: common: json file saved at : artifacts\\model_evaluation\\metrics.json]\n"
     ]
    }
   ],
   "source": [
    "try:\n",
    "    config=ConfigurationManager()\n",
    "    model_evaluation_config = config.get_model_evaluation_config()\n",
    "    model_evaluation_config= ModelEvaluation(config= model_evaluation_config)\n",
    "    model_evaluation_config.save_results()\n",
    "    \n",
    "except Exception as e:\n",
    "    raise e"
   ]
  }
 ],
 "metadata": {
  "kernelspec": {
   "display_name": ".venv",
   "language": "python",
   "name": "python3"
  },
  "language_info": {
   "codemirror_mode": {
    "name": "ipython",
    "version": 3
   },
   "file_extension": ".py",
   "mimetype": "text/x-python",
   "name": "python",
   "nbconvert_exporter": "python",
   "pygments_lexer": "ipython3",
   "version": "3.11.4"
  }
 },
 "nbformat": 4,
 "nbformat_minor": 5
}
