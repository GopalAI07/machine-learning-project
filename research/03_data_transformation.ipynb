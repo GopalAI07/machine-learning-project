{
 "cells": [
  {
   "cell_type": "code",
   "execution_count": 16,
   "id": "d6ba4e88",
   "metadata": {},
   "outputs": [],
   "source": [
    "import os"
   ]
  },
  {
   "cell_type": "code",
   "execution_count": 17,
   "id": "518c9a76",
   "metadata": {},
   "outputs": [
    {
     "data": {
      "text/plain": [
       "'c:\\\\Users\\\\jaide\\\\OneDrive\\\\Desktop\\\\GOPAL\\\\Projects\\\\Machine Learning Project\\\\machine-learning-project'"
      ]
     },
     "execution_count": 17,
     "metadata": {},
     "output_type": "execute_result"
    }
   ],
   "source": [
    "%pwd"
   ]
  },
  {
   "cell_type": "code",
   "execution_count": 18,
   "id": "99566e60",
   "metadata": {},
   "outputs": [],
   "source": [
    "# os.chdir(\"../\")"
   ]
  },
  {
   "cell_type": "code",
   "execution_count": 19,
   "id": "cd9092c5",
   "metadata": {},
   "outputs": [
    {
     "data": {
      "text/plain": [
       "'c:\\\\Users\\\\jaide\\\\OneDrive\\\\Desktop\\\\GOPAL\\\\Projects\\\\Machine Learning Project\\\\machine-learning-project'"
      ]
     },
     "execution_count": 19,
     "metadata": {},
     "output_type": "execute_result"
    }
   ],
   "source": [
    "%pwd"
   ]
  },
  {
   "cell_type": "code",
   "execution_count": 20,
   "id": "a58a25cb",
   "metadata": {},
   "outputs": [],
   "source": [
    "from dataclasses import dataclass\n",
    "from pathlib import Path\n",
    "\n",
    "@dataclass(frozen=True)\n",
    "class DataTransformationConfig:\n",
    "    root_dir: Path\n",
    "    data_path: Path"
   ]
  },
  {
   "cell_type": "code",
   "execution_count": 21,
   "id": "2e45b9f7",
   "metadata": {},
   "outputs": [],
   "source": [
    "from src.mlProject.constants import *\n",
    "from src.mlProject.utils.common import read_yaml , create_directories"
   ]
  },
  {
   "cell_type": "code",
   "execution_count": 22,
   "id": "ac90f52d",
   "metadata": {},
   "outputs": [],
   "source": [
    "class ConfigurationManager:\n",
    "    def __init__ (\n",
    "        self,\n",
    "        config_filepath = CONFIG_FILE_PATH,\n",
    "        params_filepath = PARAMS_FILE_PATH,\n",
    "        schema_filepath = SCHEMA_FILE_PATH):\n",
    "\n",
    "        self.config = read_yaml(config_filepath)\n",
    "        self.params = read_yaml(params_filepath)\n",
    "        self.schema = read_yaml(schema_filepath)\n",
    "\n",
    "        create_directories([self.config.artifacts_root])\n",
    "    \n",
    "    \n",
    "    def get_data_transformation_config(self) -> DataTransformationConfig:\n",
    "       config = self.config.data_transformation\n",
    "      \n",
    "\n",
    "       create_directories([config.root_dir])\n",
    "\n",
    "       data_transformation_config = DataTransformationConfig(\n",
    "           root_dir= config.root_dir,\n",
    "           data_path= config.data_path,\n",
    "       )\n",
    "\n",
    "       return data_transformation_config"
   ]
  },
  {
   "cell_type": "code",
   "execution_count": 23,
   "id": "40ee09cb",
   "metadata": {},
   "outputs": [],
   "source": [
    "import os \n",
    "from src.mlProject import logger\n",
    "from sklearn.model_selection import train_test_split\n",
    "import pandas as pd"
   ]
  },
  {
   "cell_type": "code",
   "execution_count": 33,
   "id": "8dabc2fc",
   "metadata": {},
   "outputs": [],
   "source": [
    "class DataTransformation:\n",
    "    def __init__(self, config: DataTransformationConfig):\n",
    "        self.config = config\n",
    "        \n",
    "    def train_test_spliting(self):\n",
    "        data = pd.read_csv(self.config.data_path)\n",
    "\n",
    "        train, test = train_test_split(data)\n",
    "\n",
    "        train.to_csv(os.path.join(self.config.root_dir, \"train.csv\"),index=False)\n",
    "        test.to_csv(os.path.join(self.config.root_dir, \"test.csv\"),index=False)\n",
    "\n",
    "        logger.info(\"splited data into trainig and test sets\")\n",
    "        logger.info(train.shape)\n",
    "        logger.info(test.shape)\n",
    "\n",
    "        print(train.shape)\n",
    "        print(test.shape)"
   ]
  },
  {
   "cell_type": "code",
   "execution_count": 35,
   "id": "8660dd3a",
   "metadata": {},
   "outputs": [
    {
     "name": "stdout",
     "output_type": "stream",
     "text": [
      "[2025-05-23 11:30:12,398: INFO: common: yaml file: C:\\Users\\jaide\\OneDrive\\Desktop\\GOPAL\\Projects\\Machine Learning Project\\machine-learning-project\\config\\config.yaml loaded successfully]\n",
      "[2025-05-23 11:30:12,412: INFO: common: yaml file: C:\\Users\\jaide\\OneDrive\\Desktop\\GOPAL\\Projects\\Machine Learning Project\\machine-learning-project\\params.yaml loaded successfully]\n",
      "[2025-05-23 11:30:12,423: INFO: common: yaml file: C:\\Users\\jaide\\OneDrive\\Desktop\\GOPAL\\Projects\\Machine Learning Project\\machine-learning-project\\schema.yaml loaded successfully]\n",
      "[2025-05-23 11:30:12,429: INFO: common: created directory at: artifacts]\n",
      "[2025-05-23 11:30:12,435: INFO: common: created directory at: artifacts/data_transformation]\n",
      "[2025-05-23 11:30:12,569: INFO: 3664358451: splited data into trainig and test sets]\n",
      "[2025-05-23 11:30:12,571: INFO: 3664358451: (857, 13)]\n",
      "[2025-05-23 11:30:12,574: INFO: 3664358451: (286, 13)]\n",
      "(857, 13)\n",
      "(286, 13)\n"
     ]
    }
   ],
   "source": [
    "try:\n",
    "    config= ConfigurationManager()\n",
    "    data_transformation_config = config.get_data_transformation_config()\n",
    "    data_transformation=DataTransformation(config=data_transformation_config)\n",
    "    data_transformation.train_test_spliting()\n",
    "except Exception as e:\n",
    "    raise e"
   ]
  }
 ],
 "metadata": {
  "kernelspec": {
   "display_name": ".venv",
   "language": "python",
   "name": "python3"
  },
  "language_info": {
   "codemirror_mode": {
    "name": "ipython",
    "version": 3
   },
   "file_extension": ".py",
   "mimetype": "text/x-python",
   "name": "python",
   "nbconvert_exporter": "python",
   "pygments_lexer": "ipython3",
   "version": "3.11.4"
  }
 },
 "nbformat": 4,
 "nbformat_minor": 5
}
