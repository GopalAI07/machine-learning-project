{
 "cells": [
  {
   "cell_type": "code",
   "execution_count": 131,
   "id": "c329b408",
   "metadata": {},
   "outputs": [],
   "source": [
    "import os"
   ]
  },
  {
   "cell_type": "code",
   "execution_count": 132,
   "id": "319639e4",
   "metadata": {},
   "outputs": [
    {
     "data": {
      "text/plain": [
       "'c:\\\\Users\\\\jaide\\\\OneDrive\\\\Desktop\\\\GOPAL\\\\Projects\\\\Machine Learning Project\\\\machine-learning-project'"
      ]
     },
     "execution_count": 132,
     "metadata": {},
     "output_type": "execute_result"
    }
   ],
   "source": [
    "%pwd"
   ]
  },
  {
   "cell_type": "code",
   "execution_count": 133,
   "id": "8af59758",
   "metadata": {},
   "outputs": [],
   "source": [
    "# os.chdir(\"../\")"
   ]
  },
  {
   "cell_type": "code",
   "execution_count": 134,
   "id": "f0826d7d",
   "metadata": {},
   "outputs": [
    {
     "data": {
      "text/plain": [
       "'c:\\\\Users\\\\jaide\\\\OneDrive\\\\Desktop\\\\GOPAL\\\\Projects\\\\Machine Learning Project\\\\machine-learning-project'"
      ]
     },
     "execution_count": 134,
     "metadata": {},
     "output_type": "execute_result"
    }
   ],
   "source": [
    "%pwd"
   ]
  },
  {
   "cell_type": "code",
   "execution_count": 135,
   "id": "75554a61",
   "metadata": {},
   "outputs": [],
   "source": [
    "from dataclasses import dataclass\n",
    "from pathlib import Path\n",
    "\n",
    "@dataclass(frozen=True)\n",
    "class ModelTrainerConfig:\n",
    "    root_dir: Path\n",
    "    train_data_path:Path\n",
    "    test_data_path: Path\n",
    "    model_name: str\n",
    "    alpha: float\n",
    "    l1_ratio: float\n",
    "    target_column: str\n"
   ]
  },
  {
   "cell_type": "code",
   "execution_count": 126,
   "id": "28b2c0d5",
   "metadata": {},
   "outputs": [],
   "source": [
    "from src.mlProject.constants import *\n",
    "from src.mlProject.utils.common import read_yaml , create_directories"
   ]
  },
  {
   "cell_type": "code",
   "execution_count": 127,
   "id": "67368956",
   "metadata": {},
   "outputs": [],
   "source": [
    "class ConfigurationManager:\n",
    "    def __init__ (\n",
    "        self,\n",
    "        config_filepath = CONFIG_FILE_PATH,\n",
    "        params_filepath = PARAMS_FILE_PATH,\n",
    "        schema_filepath = SCHEMA_FILE_PATH):\n",
    "\n",
    "        self.config = read_yaml(config_filepath)\n",
    "        self.params = read_yaml(params_filepath)\n",
    "        self.schema = read_yaml(schema_filepath)\n",
    "\n",
    "        create_directories([self.config.artifacts_root])\n",
    "\n",
    "    def get_model_trainer_config(self)-> ModelTrainerConfig:\n",
    "        config = self.config.model_trainer\n",
    "        params = self.params.ElasticNet\n",
    "        schema = self.schema.TARGET_COLUMN\n",
    "\n",
    "        # create_directories([self.config.artifacts_root])\n",
    "        create_directories([config.root_dir])\n",
    "        \n",
    "        \n",
    "        model_trainer_config = ModelTrainerConfig(\n",
    "           root_dir= config.root_dir,\n",
    "           train_data_path= config.train_data_path,\n",
    "           test_data_path= config.test_data_path,\n",
    "           model_name= config.model_name,\n",
    "           alpha= params.alpha,\n",
    "           l1_ratio= params.l1_ratio,\n",
    "           target_column= schema.name\n",
    "        )\n",
    "\n",
    "        return  model_trainer_config"
   ]
  },
  {
   "cell_type": "code",
   "execution_count": 128,
   "id": "3c3d92a2",
   "metadata": {},
   "outputs": [],
   "source": [
    "import pandas as pd \n",
    "import os\n",
    "from src.mlProject import logger\n",
    "from sklearn.linear_model import ElasticNet\n",
    "import joblib"
   ]
  },
  {
   "cell_type": "code",
   "execution_count": 129,
   "id": "9d3e72d8",
   "metadata": {},
   "outputs": [],
   "source": [
    "class ModelTrainer:\n",
    "   def __init__(self, config: ModelTrainerConfig):\n",
    "        self.config = config\n",
    "\n",
    "   def train(self):\n",
    "     train_data = pd.read_csv(self.config.train_data_path)\n",
    "     test_data = pd.read_csv(self.config.test_data_path)\n",
    "\n",
    "     train_x = train_data.drop([self.config.target_column], axis=1)\n",
    "     test_x = test_data.drop([self.config.target_column], axis=1)\n",
    "     train_y = train_data[self.config.target_column]\n",
    "     test_y = test_data[self.config.target_column]\n",
    "\n",
    "     lr = ElasticNet(alpha=self.config.alpha,l1_ratio=self.config.l1_ratio , random_state=42)\n",
    "     lr.fit(train_x, train_y)\n",
    "\n",
    "     joblib.dump(lr, os.path.join(self.config.root_dir,self.config.model_name))\n",
    "    \n"
   ]
  },
  {
   "cell_type": "code",
   "execution_count": 130,
   "id": "0f0de785",
   "metadata": {},
   "outputs": [
    {
     "name": "stdout",
     "output_type": "stream",
     "text": [
      "[2025-05-23 12:53:16,231: INFO: common: yaml file: C:\\Users\\jaide\\OneDrive\\Desktop\\GOPAL\\Projects\\Machine Learning Project\\machine-learning-project\\config\\config.yaml loaded successfully]\n",
      "[2025-05-23 12:53:16,235: INFO: common: yaml file: C:\\Users\\jaide\\OneDrive\\Desktop\\GOPAL\\Projects\\Machine Learning Project\\machine-learning-project\\params.yaml loaded successfully]\n",
      "[2025-05-23 12:53:16,241: INFO: common: yaml file: C:\\Users\\jaide\\OneDrive\\Desktop\\GOPAL\\Projects\\Machine Learning Project\\machine-learning-project\\schema.yaml loaded successfully]\n",
      "[2025-05-23 12:53:16,244: INFO: common: created directory at: artifacts]\n",
      "[2025-05-23 12:53:16,247: INFO: common: created directory at: artifacts/model_trainer]\n"
     ]
    }
   ],
   "source": [
    "try:\n",
    "    config=ConfigurationManager()\n",
    "    model_trainer_config = config.get_model_trainer_config()\n",
    "    model_trainer_config= ModelTrainer(config= model_trainer_config)\n",
    "    model_trainer_config.train()\n",
    "    \n",
    "except Exception as e:\n",
    "    raise e"
   ]
  },
  {
   "cell_type": "code",
   "execution_count": null,
   "id": "d8d253d5",
   "metadata": {},
   "outputs": [],
   "source": []
  },
  {
   "cell_type": "code",
   "execution_count": null,
   "id": "fea3304d",
   "metadata": {},
   "outputs": [],
   "source": []
  }
 ],
 "metadata": {
  "kernelspec": {
   "display_name": ".venv",
   "language": "python",
   "name": "python3"
  },
  "language_info": {
   "codemirror_mode": {
    "name": "ipython",
    "version": 3
   },
   "file_extension": ".py",
   "mimetype": "text/x-python",
   "name": "python",
   "nbconvert_exporter": "python",
   "pygments_lexer": "ipython3",
   "version": "3.11.4"
  }
 },
 "nbformat": 4,
 "nbformat_minor": 5
}
